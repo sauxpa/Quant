{
 "cells": [
  {
   "cell_type": "code",
   "execution_count": 1,
   "metadata": {},
   "outputs": [],
   "source": [
    "import numpy as np\n",
    "from ito_diffusions.ito_diffusion_1d import FBM\n",
    "from hurst_fitter import Hurst_fitter\n",
    "import matplotlib.pyplot as plt\n",
    "from matplotlib.ticker import FuncFormatter\n",
    "plt.style.use('dark_background')"
   ]
  },
  {
   "cell_type": "code",
   "execution_count": 2,
   "metadata": {},
   "outputs": [],
   "source": [
    "T = 1.0\n",
    "SCHEME_STEPS = int(252 * 4)\n",
    "fitter = Hurst_fitter(n_lags=10)"
   ]
  },
  {
   "cell_type": "code",
   "execution_count": 3,
   "metadata": {},
   "outputs": [],
   "source": [
    "spread = 2.0\n",
    "H = 0.7\n",
    "vol_price_increments = 2.0\n",
    "\n",
    "Bid = FBM(x0=100, T=T, scheme_steps=SCHEME_STEPS, drift=0.0, vol=vol_price_increments, H=H)"
   ]
  },
  {
   "cell_type": "code",
   "execution_count": 4,
   "metadata": {},
   "outputs": [
    {
     "name": "stderr",
     "output_type": "stream",
     "text": [
      "/home/sauxpa/anaconda3/lib/python3.7/site-packages/ipykernel_launcher.py:13: RuntimeWarning: covariance is not positive-semidefinite.\n",
      "  del sys.path[0]\n"
     ]
    }
   ],
   "source": [
    "gamma_h = lambda s, t: 0.5  * (t ** (2 * H) + s ** (2 * H) - np.abs(t - s) ** (2 * H))\n",
    "gamma_alpha = lambda s, t: vol_price_increments ** 2 * (np.min([s, t]) - gamma_h(s, t)) / spread ** 2\n",
    "\n",
    "cov_alpha = np.zeros((Bid.scheme_steps + 1, Bid.scheme_steps + 1))\n",
    "for i in range(Bid.scheme_steps + 1):\n",
    "    cov_alpha[i][i] = gamma_alpha(i * Bid.scheme_step, i * Bid.scheme_step)\n",
    "    for j in range(i):\n",
    "        cov_alpha[i][j] = gamma_alpha(i * Bid.scheme_step, j * Bid.scheme_step)\n",
    "        cov_alpha[j][i] = cov_alpha[i][j]\n",
    "\n",
    "alpha = np.random.multivariate_normal(\n",
    "    np.zeros((Bid.scheme_steps + 1,)) + 0.5,\n",
    "    cov_alpha\n",
    "    )\n",
    "\n",
    "alpha = np.clip(alpha, 0.0, 1.0)"
   ]
  },
  {
   "cell_type": "code",
   "execution_count": null,
   "metadata": {},
   "outputs": [],
   "source": [
    "fig, ax = plt.subplots(figsize=(11, 5), nrows=1, ncols=1)\n",
    "df = Bid.simulate()\n",
    "df.rename(columns={'spot': 'bid'}, inplace=True)\n",
    "df['ask'] = df['bid'] + spread\n",
    "df['mid'] = df['bid'] + alpha * spread\n",
    "\n",
    "fitter.df = df['bid']\n",
    "H_bid = fitter.fit()\n",
    "fitter.df = df['ask']\n",
    "H_ask = fitter.fit()\n",
    "fitter.df = df['mid']\n",
    "H_mid = fitter.fit()\n",
    "\n",
    "df.plot(kind='line', ax=ax)\n",
    "\n",
    "ax.set_xlabel('time')\n",
    "ax.set_ylabel('spot')\n",
    "ax.legend()\n",
    "ax.set_title('H_bid = {:.2f}\\nH_ask = {:.2f}\\nH_mid = {:.2f}'.format(H_bid, H_ask, H_mid))\n",
    "\n",
    "plt.tight_layout()\n",
    "plt.show()\n",
    "\n",
    "fig.savefig('brownian_implied_mid.png', dpi=600)"
   ]
  },
  {
   "cell_type": "code",
   "execution_count": null,
   "metadata": {},
   "outputs": [],
   "source": []
  }
 ],
 "metadata": {
  "kernelspec": {
   "display_name": "Python 3",
   "language": "python",
   "name": "python3"
  },
  "language_info": {
   "codemirror_mode": {
    "name": "ipython",
    "version": 3
   },
   "file_extension": ".py",
   "mimetype": "text/x-python",
   "name": "python",
   "nbconvert_exporter": "python",
   "pygments_lexer": "ipython3",
   "version": "3.7.4"
  }
 },
 "nbformat": 4,
 "nbformat_minor": 2
}
